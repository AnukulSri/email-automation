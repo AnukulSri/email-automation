{
 "cells": [
  {
   "cell_type": "code",
   "execution_count": 4,
   "metadata": {},
   "outputs": [
    {
     "name": "stdout",
     "output_type": "stream",
     "text": [
      "Email sent successfully!\n"
     ]
    }
   ],
   "source": [
    "import smtplib\n",
    "from email.message import EmailMessage\n",
    "\n",
    "def send_email(sender_email, sender_password, recipient_email, subject, body):\n",
    "    try:\n",
    "        # Create the email\n",
    "        msg = EmailMessage()\n",
    "        msg['From'] = sender_email\n",
    "        msg['To'] = recipient_email\n",
    "        msg['Subject'] = subject\n",
    "        msg.set_content(body)\n",
    "\n",
    "        # Connect to the SMTP server\n",
    "        with smtplib.SMTP('smtp.gmail.com', 587) as smtp:\n",
    "            smtp.starttls()  # Upgrade connection to secure\n",
    "            smtp.login(sender_email, sender_password)\n",
    "            smtp.send_message(msg)\n",
    "\n",
    "        print(\"Email sent successfully!\")\n",
    "\n",
    "    except Exception as e:\n",
    "        print(f\"Error: {e}\")\n",
    "\n",
    "# Example usage\n",
    "if __name__ == \"__main__\":\n",
    "    sender_email = \"pythondata8@gmail.com\"\n",
    "    sender_password = \"sddo uyfz ywrk ftus\"  # App password if required\n",
    "    recipient_email = \"anukulsrivastava123@gmail.com\"\n",
    "    subject = \"Test Email\"\n",
    "    body = \"Hello! This is a test email sent from Python.\"\n",
    "\n",
    "    send_email(sender_email, sender_password, recipient_email, subject, body)\n"
   ]
  }
 ],
 "metadata": {
  "kernelspec": {
   "display_name": "base",
   "language": "python",
   "name": "python3"
  },
  "language_info": {
   "codemirror_mode": {
    "name": "ipython",
    "version": 3
   },
   "file_extension": ".py",
   "mimetype": "text/x-python",
   "name": "python",
   "nbconvert_exporter": "python",
   "pygments_lexer": "ipython3",
   "version": "3.9.12"
  }
 },
 "nbformat": 4,
 "nbformat_minor": 2
}
